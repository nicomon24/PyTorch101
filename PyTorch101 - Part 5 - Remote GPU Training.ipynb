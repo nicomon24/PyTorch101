{
 "cells": [
  {
   "cell_type": "markdown",
   "metadata": {},
   "source": [
    "# PyTorch101 - Part 5 - Remote GPU Training\n",
    "In this part of the tutorial, we will discover how to train on GPUs while also understanding how to train remotely and saving a model, to make inference offline afterwards.\n",
    "\n",
    "We decided not to use a remote jupyter notebook just replicated as before; instead, we decided to create an end-to-end training script which is launched directly on the remote machine. This script includes the data loading and the tensorboard logging as before.\n",
    "\n",
    "This notebook is mostly intended as a presentation for new instructions, namely the GPU execution and the model saving/loading, but also as a presentation of the results, both in terms of accuracy of the local inference and on time requirements."
   ]
  },
  {
   "cell_type": "code",
   "execution_count": 53,
   "metadata": {},
   "outputs": [
    {
     "name": "stdout",
     "output_type": "stream",
     "text": [
      "0.4.0\n",
      "0.2.1\n"
     ]
    }
   ],
   "source": [
    "import matplotlib.pyplot as plt\n",
    "import numpy as np\n",
    "\n",
    "import torch\n",
    "import torch.nn as nn\n",
    "import torch.nn.functional as F\n",
    "import torch.optim as optim\n",
    "import torchvision\n",
    "import torchvision.transforms as transforms\n",
    "print(torch.__version__)\n",
    "print(torchvision.__version__)"
   ]
  },
  {
   "cell_type": "markdown",
   "metadata": {},
   "source": [
    "## GPU Training: what we need to do\n",
    "To effectively use a GPU for computation, we need to move everything (model, parameters and data) to the GPU device. In PyTorch, each tensor resides in a specific device: this is quite different from tensorflow, where it simply uses GPU when it can and it does not provide any manual control on where data resides.\n",
    "\n",
    "To move tensors to GPU it suffice to call the *.to(device)* instruction, where device can be both a CPU or a GPU when available"
   ]
  },
  {
   "cell_type": "code",
   "execution_count": null,
   "metadata": {},
   "outputs": [],
   "source": [
    "# Find the available device\n",
    "device = torch.device(\"cuda:0\" if torch.cuda.is_available() else \"cpu\")\n",
    "# Move network to device\n",
    "net.to(device)"
   ]
  },
  {
   "cell_type": "markdown",
   "metadata": {},
   "source": [
    "## Saving a Model\n",
    "The procedure to save a model depends on wether we want to continue training o just use the local copy for inference. Basically, if we want to continue training, we also need to save the current epoch and the optimizer state. When we use the model for inference, we call the *.eval()* method\n",
    "\n",
    "### Model used for inference"
   ]
  },
  {
   "cell_type": "code",
   "execution_count": null,
   "metadata": {},
   "outputs": [],
   "source": [
    "# Save the model to a file\n",
    "torch.save(model.state_dict(), filepath)\n",
    "\n",
    "# Load the model for inference\n",
    "model.load_state_dict(torch.load(filepath))\n",
    "model.eval()"
   ]
  },
  {
   "cell_type": "markdown",
   "metadata": {},
   "source": [
    "### Continue training"
   ]
  },
  {
   "cell_type": "code",
   "execution_count": null,
   "metadata": {},
   "outputs": [],
   "source": [
    "# Create a cumulative state\n",
    "state = {\n",
    "    'epoch': epoch,\n",
    "    'state_dict': model.state_dict(),\n",
    "    'optimizer': optimizer.state_dict(),\n",
    "    # Can also include scores and other\n",
    "}\n",
    "# Save \n",
    "torch.save(state, filepath)\n",
    "\n",
    "# Loading to continue training\n",
    "model.load_state_dict(state['state_dict'])\n",
    "optimizer.load_state_dict(stata['optimizer'])"
   ]
  },
  {
   "cell_type": "markdown",
   "metadata": {},
   "source": [
    "## Experimental Results\n",
    "Running the same model on GPU requires little effort to adapt the code, while improving speed a lot. In this simple case, the speed-up running on GPU was just 4x (2 minutes instead of 8 minutes).\n",
    "The testing machine was equipped with 4 vCPU and a k80 GPU (Google Compute Engine). \n",
    "The plot from tensorboard is shown below, same as before.\n",
    "\n",
    "The accuracy on the test set is quite similar, also because the architecture was the same and the training was similar.\n",
    "\n",
    "![Tensorboard output](img/mnist-remote.png)"
   ]
  },
  {
   "cell_type": "markdown",
   "metadata": {},
   "source": [
    "## CIFAR\n",
    "As an extensive experiment, we want to try the same script, with little modification to the network architecture obviously, on the CIFAR dataset, to see how it performs. \n",
    "\n",
    "The CIFAR10 dataset, which can be downloaded using the torchvision helpers as the MNIST, contains a total of 50k images for training and 10k images for testing. Each of these images has 32x32 pixels and 3 channels (standard RGB). The images are already in the format [0,1] (instead of [0,255]).\n",
    "\n",
    "We will try the previous architecture, to see how it compares (our baseline), but also a VGG-like architecture, with a total of 11 layers, modified for the CIFAR10 dataset."
   ]
  },
  {
   "cell_type": "markdown",
   "metadata": {},
   "source": [
    "Here we provide a review of the experiments, in tabular form, of the accuracy and the relative hyperparameters. We use the \"baseline\" alias for the MNIST equivalent architecture, while we use the \"VGG\" alias for the VGG-like architecture.\n",
    "\n",
    "| Arch        | Epochs | Accuracy   |\n",
    "|------       |------  |-------     |\n",
    "|   Baseline  | 2      | 0.5078     |\n",
    "|   Baseline  | 4      | 0.6096     |\n",
    "|   Vgg       | 16     | 0.7903     |"
   ]
  },
  {
   "cell_type": "markdown",
   "metadata": {},
   "source": [
    "## Visualization\n",
    "We can also try to visualize the results, showing 4 images and their relative categories."
   ]
  },
  {
   "cell_type": "code",
   "execution_count": 89,
   "metadata": {},
   "outputs": [
    {
     "name": "stdout",
     "output_type": "stream",
     "text": [
      "Files already downloaded and verified\n"
     ]
    }
   ],
   "source": [
    "transform = transforms.Compose([transforms.ToTensor()])\n",
    "testset = torchvision.datasets.CIFAR10(root='./cifar/cifar_data', train=False, download=True, transform=transform)\n",
    "testloader = torch.utils.data.DataLoader(testset, batch_size=8, shuffle=False, num_workers=2)\n",
    "\n",
    "classes = [\"airplane\",\"automobile\",\"bird\",\"cat\",\"deer\",\"dog\",\"frog\",\"horse\",\"ship\",\"truck\"]"
   ]
  },
  {
   "cell_type": "code",
   "execution_count": 90,
   "metadata": {},
   "outputs": [],
   "source": [
    "dataiter = iter(testloader)\n",
    "images, labels = dataiter.next()\n",
    "\n",
    "def show_results(net):\n",
    "    outputs = net(images)\n",
    "    o = outputs.detach().numpy()\n",
    "    predictions = np.argmax(o, axis=1)\n",
    "\n",
    "    print(\"True labels:\", [classes[i] for i in labels])\n",
    "    print(\"Predicted labels:\", [classes[i] for i in predictions])\n",
    "    f, ax = plt.subplots(1, 8, figsize=(16,4))\n",
    "    _images = np.transpose(images, [0, 2, 3, 1])\n",
    "    for i in range(_images.shape[0]):\n",
    "        ax[i].imshow(_images[i])\n",
    "        ax[i].set_axis_off()\n",
    "    plt.show()"
   ]
  },
  {
   "cell_type": "markdown",
   "metadata": {},
   "source": [
    "## Baseline"
   ]
  },
  {
   "cell_type": "code",
   "execution_count": 91,
   "metadata": {
    "scrolled": false
   },
   "outputs": [
    {
     "name": "stdout",
     "output_type": "stream",
     "text": [
      "True labels: ['cat', 'ship', 'ship', 'airplane', 'frog', 'frog', 'automobile', 'frog']\n",
      "Predicted labels: ['cat', 'automobile', 'ship', 'airplane', 'deer', 'frog', 'automobile', 'frog']\n"
     ]
    },
    {
     "data": {
      "image/png": "[encoded data removed]",
      "text/plain": [
       "<matplotlib.figure.Figure at 0x11048e860>"
      ]
     },
     "metadata": {},
     "output_type": "display_data"
    }
   ],
   "source": [
    "from cifar.archs import BaselineNet\n",
    "net = BaselineNet()\n",
    "net.load_state_dict(torch.load('cifar/model/baseline4e.torch', map_location='cpu'))\n",
    "net.eval()\n",
    "show_results(net)"
   ]
  },
  {
   "cell_type": "markdown",
   "metadata": {},
   "source": [
    "## Comments\n",
    "The following screenshot shows the training of the different architectures. I tried 3 different setups for the VGG architecture:\n",
    "- VGG with 11 layers\n",
    "- VGG-mini with 6 layers\n",
    "- VGG11 with Batch Norm in each layer\n",
    "\n",
    "The screenshot shows why you should *clearly* use Batch Norm with deep neural networks. \n",
    "\n",
    "Obviously the results on the test set show how this network does not generalize well, which can be explained by a series of factors: \n",
    "- Model is probably overfitting because of the high number of epochs\n",
    "- Model did not use dropout\n",
    "- Model is not tuned, this is just the first result we got\n",
    "\n",
    "![Tensorboard output](img/vgg.png)"
   ]
  }
 ],
 "metadata": {
  "kernelspec": {
   "display_name": "Python 3",
   "language": "python",
   "name": "python3"
  },
  "language_info": {
   "codemirror_mode": {
    "name": "ipython",
    "version": 3
   },
   "file_extension": ".py",
   "mimetype": "text/x-python",
   "name": "python",
   "nbconvert_exporter": "python",
   "pygments_lexer": "ipython3",
   "version": "3.6.0"
  }
 },
 "nbformat": 4,
 "nbformat_minor": 2
}
