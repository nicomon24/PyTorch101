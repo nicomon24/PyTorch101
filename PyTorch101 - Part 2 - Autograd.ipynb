{
 "cells": [
  {
   "cell_type": "markdown",
   "metadata": {},
   "source": [
    "# PyTorch101 - Part 2 - Autograd\n",
    "This time we will use the automatic differentiation tool integrated inside PyTorch, autograd.\n",
    "We already know why taking gradients is essential in Deep Learning (for now), so this feature is a must."
   ]
  },
  {
   "cell_type": "code",
   "execution_count": 2,
   "metadata": {},
   "outputs": [
    {
     "name": "stdout",
     "output_type": "stream",
     "text": [
      "0.4.0\n"
     ]
    }
   ],
   "source": [
    "import torch\n",
    "print(torch.__version__)"
   ]
  },
  {
   "cell_type": "markdown",
   "metadata": {},
   "source": [
    "## Preliminaries\n",
    "\n",
    "- A *torch.Tensor* with the attribute *requires_grad=True* will track all the operations it performs. This flag is *True* by default and can also be set later using the in-place operator *requires\\_grad\\_(True)*\n",
    "- When the forward pass is finished, we can call *.backward()* and compute the gradients which are stored in the *.grad* attribute\n",
    "- The *.detach()* operation will stop the operation tracking\n",
    "- Using *with torch.no\\_grad():* will avoid the tracking of gradients inside the block\n",
    "- *torch.Tensor* and *torch.Function* build an acyclic graph which is used to compute the complete gradient. The function which generated the tensor is found inside the *.grad\\_fn* attribute (*None* if user-generated)\n",
    "\n",
    "### Comparison with TF\n",
    "In contrast with the usage of TF, PyTorch seems to have a lot of control on the backward pass: instead of handling it implicitly when using the optimizer *minimize()* function, here we can directly access the gradients.\n",
    "\n",
    "Now we can have some fun and try things out!\n",
    "\n",
    "## Autograd basics"
   ]
  },
  {
   "cell_type": "code",
   "execution_count": 35,
   "metadata": {},
   "outputs": [
    {
     "name": "stdout",
     "output_type": "stream",
     "text": [
      "<AddBackward0 object at 0x10d36a9b0>\n",
      "tensor([[ 12.,  12.],\n",
      "        [ 12.,  12.]])\n",
      "tensor([[ 0.2500,  0.2500],\n",
      "        [ 0.2500,  0.2500]])\n"
     ]
    }
   ],
   "source": [
    "# Tensor definition with tracked gradient\n",
    "x = torch.ones(2, 2, requires_grad=True)\n",
    "# Simple op\n",
    "y = x + 7\n",
    "# More complex ops\n",
    "z = y * y * 3\n",
    "# Also compute z's gradient\n",
    "z.retain_grad()\n",
    "out = z.mean()\n",
    "# Get the grad_fn of y\n",
    "print(y.grad_fn)\n",
    "# Compute backward grads\n",
    "out.backward()\n",
    "# Print some grads\n",
    "print(x.grad)\n",
    "print(z.grad)"
   ]
  },
  {
   "cell_type": "markdown",
   "metadata": {},
   "source": [
    "Remember that all these tensors have an already computed value, i.e. the forward pass is already done by declaring it. This is a great difference, probably **the** great difference between TF (classic, not eager) and PyTorch.\n",
    "\n",
    "### Note\n",
    "I experimented a little bit with the backward op encountering different errors:\n",
    "- If you call *.backward()* a second time it will raise an error (avoid by using *retain\\_graph=True* if needed)\n",
    "- Autograd works only for scalar values 🤬 (see later the follow-up)\n",
    "\n",
    "## Dynamically creating tensors and autograd\n",
    "We can create arbitrary long chains of tensor ops, and autograd will behave just as before."
   ]
  },
  {
   "cell_type": "code",
   "execution_count": 27,
   "metadata": {},
   "outputs": [
    {
     "name": "stdout",
     "output_type": "stream",
     "text": [
      "tensor([-1968.6005,   -96.0793,   308.6039])\n"
     ]
    }
   ],
   "source": [
    "x = torch.randn(3, requires_grad=True)\n",
    "y = x * 2\n",
    "while y.data.norm() < 1000: # L2-norm, just use the *p* parameter inside the *norm()* function for other exponents\n",
    "    y = y * 2\n",
    "print(y)"
   ]
  },
  {
   "cell_type": "markdown",
   "metadata": {},
   "source": [
    "With this snippet of code, we are first generating a tensor of normal random values, then we are taking the 2nd-power till the L2-norm of the vector exceed 1000. \n",
    "\n",
    "Next we want to compute the gradient of *y*. As I was saying before, gradients of tensors do not work out-of-the-box, while we can make them work by providing a \"scaling\" for them, with the correct shape obviously."
   ]
  },
  {
   "cell_type": "code",
   "execution_count": 28,
   "metadata": {},
   "outputs": [
    {
     "name": "stdout",
     "output_type": "stream",
     "text": [
      "tensor([ 1024.,  1024.,  1024.])\n"
     ]
    }
   ],
   "source": [
    "# Taking the gradient\n",
    "grad_scale = torch.tensor([1, 1, 1], dtype=torch.float)\n",
    "y.backward(grad_scale)\n",
    "print(x.grad)"
   ]
  },
  {
   "cell_type": "markdown",
   "metadata": {},
   "source": [
    "This way we can verify that we multiplied 10 times.\n",
    "\n",
    "Given this new \"scaling\" trick, I want to go back and inspect the other gradients, and compare them with the manually computed ones (by me)."
   ]
  },
  {
   "cell_type": "code",
   "execution_count": 31,
   "metadata": {},
   "outputs": [
    {
     "name": "stdout",
     "output_type": "stream",
     "text": [
      "tensor([[ 48.,  48.],\n",
      "        [ 48.,  48.]])\n",
      "None\n"
     ]
    }
   ],
   "source": [
    "# Tensor definition with tracked gradient\n",
    "x = torch.ones(2, 2, requires_grad=True)\n",
    "grad_scale = torch.ones_like(x, dtype=torch.float)\n",
    "# Simple op\n",
    "y = x + 7\n",
    "# More complex ops\n",
    "z = y * y * 3\n",
    "out = z.mean()\n",
    "# Gradients\n",
    "z.backward(grad_scale)\n",
    "print(x.grad)"
   ]
  },
  {
   "cell_type": "markdown",
   "metadata": {},
   "source": [
    "## Testing Autograd\n",
    "The official tutorial stops here, but for the sake of understanding I will continue with a quite simple experiment, good ol Linear Regression. "
   ]
  },
  {
   "cell_type": "code",
   "execution_count": 231,
   "metadata": {},
   "outputs": [
    {
     "data": {
      "image/png": "[encoded data removed]",
      "text/plain": [
       "<matplotlib.figure.Figure at 0x10d360b38>"
      ]
     },
     "metadata": {},
     "output_type": "display_data"
    }
   ],
   "source": [
    "import numpy as np\n",
    "import matplotlib.pyplot as plt\n",
    "\n",
    "LENGTH = 100\n",
    "\n",
    "# Create a stupid dataset\n",
    "X = np.random.rand(LENGTH).astype(np.float) * 10 - 5\n",
    "noise = np.random.randn(LENGTH) * 2.5\n",
    "Y = 14.4 * X + 7.5 + noise\n",
    "# Plot these things\n",
    "plt.scatter(X, Y)\n",
    "plt.show()"
   ]
  },
  {
   "cell_type": "markdown",
   "metadata": {},
   "source": [
    "Next we want to create a model (one weight and one bias term), an error (MSE) and optimize the \"model\" using the gradients (through a learning rate)"
   ]
  },
  {
   "cell_type": "code",
   "execution_count": 237,
   "metadata": {},
   "outputs": [
    {
     "name": "stdout",
     "output_type": "stream",
     "text": [
      "[Epoch 1 \b] MSE: 166917.27318744475\n",
      "[Epoch 2 \b] MSE: 56681.945577653845\n",
      "[Epoch 3 \b] MSE: 20052.39726437068\n",
      "[Epoch 4 \b] MSE: 7679.706503279205\n",
      "[Epoch 5 \b] MSE: 3373.8922300899826\n",
      "[Epoch 6 \b] MSE: 1797.1046062855546\n",
      "[Epoch 7 \b] MSE: 1172.6464766351735\n",
      "[Epoch 8 \b] MSE: 898.4938922669737\n",
      "[Epoch 9 \b] MSE: 763.9654393345714\n",
      "[Epoch 10 \b] MSE: 691.2061794532269\n",
      "[Epoch 10 \b] MSE: 6068.167368953221\n",
      "W: tensor([  6.5934,  14.3346], dtype=torch.float64)\n",
      "691.2061794532269\n"
     ]
    },
    {
     "data": {
      "image/png": "[encoded data removed]",
      "text/plain": [
       "<matplotlib.figure.Figure at 0x10f229f98>"
      ]
     },
     "metadata": {},
     "output_type": "display_data"
    },
    {
     "data": {
      "image/png": "[encoded data removed]",
      "text/plain": [
       "<matplotlib.figure.Figure at 0x10eee10f0>"
      ]
     },
     "metadata": {},
     "output_type": "display_data"
    }
   ],
   "source": [
    "# Setting seed for reproducibility (also need torch.cuda.manual_seed_all() in case of GPU usage)\n",
    "torch.manual_seed(42)\n",
    "\n",
    "# Model definition\n",
    "W = torch.tensor([0, 0], dtype=torch.double, requires_grad=True)#torch.randn(2, dtype=torch.double, requires_grad=True)\n",
    "_X = torch.from_numpy(X)\n",
    "_Y = torch.from_numpy(Y)\n",
    "\n",
    "LR = 0.001\n",
    "\n",
    "mses = []\n",
    "\n",
    "for i in range(10):\n",
    "    # Computing predictions\n",
    "    Y_pred = W[1] * _X + W[0]\n",
    "    # Error definition\n",
    "    mse = ((_Y - Y_pred)**2).sum()\n",
    "    mses.append(mse.item())\n",
    "    if i % 1 == 0:\n",
    "        print(\"[Epoch\", i+1, \"\\b] MSE:\", mse.item())\n",
    "    # Taking gradient and updating\n",
    "    mse.backward()\n",
    "    W.data = W.data - LR * W.grad\n",
    "    W.grad.data.zero_()\n",
    "\n",
    "Y_pred = W[1] * _X + W[0] * 0\n",
    "mse = ((_Y - Y_pred)**2).sum()\n",
    "print(\"[Epoch\", i+1, \"\\b] MSE:\", mse.item())\n",
    "print(\"W:\", W)\n",
    "print(min(mses))\n",
    "\n",
    "plt.plot(mses)\n",
    "plt.show()\n",
    "\n",
    "plt.scatter(X,Y)\n",
    "plt.plot([-5, 5], [W[1]*-5+W[0], W[1]*5+W[0]], color=\"red\")\n",
    "plt.show()"
   ]
  },
  {
   "cell_type": "markdown",
   "metadata": {},
   "source": [
    "After many trials, I understood that I needed to manually clear the gradients after each iteration because\n",
    "> Every time a variable is back propogated through, the gradient will be accumulated instead of being replaced. (This makes it easier for rnn, because each module will be back propogated through several times.)\n",
    "\n",
    "To clear the gradients use *.grad.data.zero_()*.\n",
    "\n",
    "Anyway, we can see how the linear regression works nicely using the computed gradient (which are trivial in this case, but still they works)."
   ]
  }
 ],
 "metadata": {
  "kernelspec": {
   "display_name": "Python 3",
   "language": "python",
   "name": "python3"
  },
  "language_info": {
   "codemirror_mode": {
    "name": "ipython",
    "version": 3
   },
   "file_extension": ".py",
   "mimetype": "text/x-python",
   "name": "python",
   "nbconvert_exporter": "python",
   "pygments_lexer": "ipython3",
   "version": "3.6.0"
  }
 },
 "nbformat": 4,
 "nbformat_minor": 2
}
